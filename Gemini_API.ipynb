{
  "nbformat": 4,
  "nbformat_minor": 0,
  "metadata": {
    "colab": {
      "provenance": [],
      "authorship_tag": "ABX9TyO8KPww6KIPxfPPSjM8D6XR",
      "include_colab_link": true
    },
    "kernelspec": {
      "name": "python3",
      "display_name": "Python 3"
    },
    "language_info": {
      "name": "python"
    }
  },
  "cells": [
    {
      "cell_type": "markdown",
      "metadata": {
        "id": "view-in-github",
        "colab_type": "text"
      },
      "source": [
        "<a href=\"https://colab.research.google.com/github/niikun/learning_gemini/blob/main/Gemini_API.ipynb\" target=\"_parent\"><img src=\"https://colab.research.google.com/assets/colab-badge.svg\" alt=\"Open In Colab\"/></a>"
      ]
    },
    {
      "cell_type": "markdown",
      "source": [
        "# Gemini API\n",
        "以下のサイトからAPI_Keyを取得\n",
        "https://aistudio.google.com/app/prompts/new_chat"
      ],
      "metadata": {
        "id": "L9ShgoSfv5In"
      }
    },
    {
      "cell_type": "markdown",
      "source": [
        "## 事前準備"
      ],
      "metadata": {
        "id": "Wc08lSfzyc1T"
      }
    },
    {
      "cell_type": "markdown",
      "source": [
        "#### パッケージのインストール"
      ],
      "metadata": {
        "id": "QHld_lrUyjGW"
      }
    },
    {
      "cell_type": "code",
      "execution_count": 2,
      "metadata": {
        "colab": {
          "base_uri": "https://localhost:8080/"
        },
        "id": "7GM4i9Svvy3h",
        "outputId": "2d9a9d53-8b6b-4899-b490-ef73ed713d6c"
      },
      "outputs": [
        {
          "output_type": "stream",
          "name": "stdout",
          "text": [
            "\u001b[?25l     \u001b[90m━━━━━━━━━━━━━━━━━━━━━━━━━━━━━━━━━━━━━━━━\u001b[0m \u001b[32m0.0/163.9 kB\u001b[0m \u001b[31m?\u001b[0m eta \u001b[36m-:--:--\u001b[0m\r\u001b[2K     \u001b[91m━━━━━━━━━━━━━━━━━━━━━━━━━━━\u001b[0m\u001b[90m╺\u001b[0m\u001b[90m━━━━━━━━━━━━\u001b[0m \u001b[32m112.6/163.9 kB\u001b[0m \u001b[31m3.2 MB/s\u001b[0m eta \u001b[36m0:00:01\u001b[0m\r\u001b[2K     \u001b[90m━━━━━━━━━━━━━━━━━━━━━━━━━━━━━━━━━━━━━━━━\u001b[0m \u001b[32m163.9/163.9 kB\u001b[0m \u001b[31m3.1 MB/s\u001b[0m eta \u001b[36m0:00:00\u001b[0m\n",
            "\u001b[?25h\u001b[?25l     \u001b[90m━━━━━━━━━━━━━━━━━━━━━━━━━━━━━━━━━━━━━━━━\u001b[0m \u001b[32m0.0/718.3 kB\u001b[0m \u001b[31m?\u001b[0m eta \u001b[36m-:--:--\u001b[0m\r\u001b[2K     \u001b[91m━━━━━━━━━━━━━━━━━━━━━━━━━━━━━━━━━━━━━━━\u001b[0m\u001b[91m╸\u001b[0m \u001b[32m716.8/718.3 kB\u001b[0m \u001b[31m35.6 MB/s\u001b[0m eta \u001b[36m0:00:01\u001b[0m\r\u001b[2K     \u001b[90m━━━━━━━━━━━━━━━━━━━━━━━━━━━━━━━━━━━━━━━━\u001b[0m \u001b[32m718.3/718.3 kB\u001b[0m \u001b[31m19.1 MB/s\u001b[0m eta \u001b[36m0:00:00\u001b[0m\n",
            "\u001b[?25h"
          ]
        }
      ],
      "source": [
        "\n",
        "!pip install -q -U google-generativeai"
      ]
    },
    {
      "cell_type": "markdown",
      "source": [
        "#### 環境変数の準備"
      ],
      "metadata": {
        "id": "6Uxtfd0VySBf"
      }
    },
    {
      "cell_type": "code",
      "source": [
        "from google.colab import userdata\n",
        "import google.generativeai as genai\n",
        "\n",
        "GOOGLE_API_KEY = userdata.get(\"GOOGLE_API_KEY\")\n",
        "genai.configure(api_key=GOOGLE_API_KEY)"
      ],
      "metadata": {
        "id": "DFjGnMunxeYt"
      },
      "execution_count": 3,
      "outputs": []
    },
    {
      "cell_type": "markdown",
      "source": [
        "#### モデルの一覧"
      ],
      "metadata": {
        "id": "Hya3Lob9ywbz"
      }
    },
    {
      "cell_type": "code",
      "source": [
        "for m in genai.list_models():\n",
        "    print(f\"{m.name}  : {m.supported_generation_methods}\\n: {m.description}\\n\")"
      ],
      "metadata": {
        "colab": {
          "base_uri": "https://localhost:8080/",
          "height": 1000
        },
        "id": "yePpr4TayNJ1",
        "outputId": "040830dd-6ce8-4b99-e365-e0d3d8876fd0"
      },
      "execution_count": 10,
      "outputs": [
        {
          "output_type": "stream",
          "name": "stdout",
          "text": [
            "models/chat-bison-001  : ['generateMessage', 'countMessageTokens']\n",
            ": A legacy text-only model optimized for chat conversations\n",
            "\n",
            "models/text-bison-001  : ['generateText', 'countTextTokens', 'createTunedTextModel']\n",
            ": A legacy model that understands text and generates text as an output\n",
            "\n",
            "models/embedding-gecko-001  : ['embedText', 'countTextTokens']\n",
            ": Obtain a distributed representation of a text.\n",
            "\n",
            "models/gemini-1.0-pro  : ['generateContent', 'countTokens']\n",
            ": The best model for scaling across a wide range of tasks\n",
            "\n",
            "models/gemini-1.0-pro-001  : ['generateContent', 'countTokens', 'createTunedModel']\n",
            ": The best model for scaling across a wide range of tasks. This is a stable model that supports tuning.\n",
            "\n",
            "models/gemini-1.0-pro-latest  : ['generateContent', 'countTokens']\n",
            ": The best model for scaling across a wide range of tasks. This is the latest model.\n",
            "\n",
            "models/gemini-1.0-pro-vision-latest  : ['generateContent', 'countTokens']\n",
            ": The best image understanding model to handle a broad range of applications\n",
            "\n",
            "models/gemini-1.5-flash  : ['generateContent', 'countTokens']\n",
            ": Fast and versatile multimodal model for scaling across diverse tasks\n",
            "\n",
            "models/gemini-1.5-flash-001  : ['generateContent', 'countTokens', 'createCachedContent']\n",
            ": Fast and versatile multimodal model for scaling across diverse tasks\n",
            "\n",
            "models/gemini-1.5-flash-latest  : ['generateContent', 'countTokens']\n",
            ": Fast and versatile multimodal model for scaling across diverse tasks\n",
            "\n",
            "models/gemini-1.5-pro  : ['generateContent', 'countTokens']\n",
            ": Mid-size multimodal model that supports up to 1 million tokens\n",
            "\n",
            "models/gemini-1.5-pro-001  : ['generateContent', 'countTokens', 'createCachedContent']\n",
            ": Mid-size multimodal model that supports up to 1 million tokens\n",
            "\n",
            "models/gemini-1.5-pro-latest  : ['generateContent', 'countTokens']\n",
            ": Mid-size multimodal model that supports up to 1 million tokens\n",
            "\n",
            "models/gemini-pro  : ['generateContent', 'countTokens']\n",
            ": The best model for scaling across a wide range of tasks\n",
            "\n",
            "models/gemini-pro-vision  : ['generateContent', 'countTokens']\n",
            ": The best image understanding model to handle a broad range of applications\n",
            "\n",
            "models/embedding-001  : ['embedContent']\n",
            ": Obtain a distributed representation of a text.\n",
            "\n",
            "models/text-embedding-004  : ['embedContent']\n",
            ": Obtain a distributed representation of a text.\n",
            "\n",
            "models/aqa  : ['generateAnswer']\n",
            ": Model trained to return answers to questions that are grounded in provided sources, along with estimating answerable probability.\n",
            "\n"
          ]
        }
      ]
    },
    {
      "cell_type": "markdown",
      "source": [
        "## テキスト生成の実行"
      ],
      "metadata": {
        "id": "qxVHmGVk4uHn"
      }
    },
    {
      "cell_type": "markdown",
      "source": [
        "### モデルの準備"
      ],
      "metadata": {
        "id": "GMk6wHlx42J8"
      }
    },
    {
      "cell_type": "code",
      "source": [
        "model = genai.GenerativeModel(\n",
        "    \"models/gemini-1.5-flash\"\n",
        ")"
      ],
      "metadata": {
        "id": "JMUYUKfIzCCX"
      },
      "execution_count": 11,
      "outputs": []
    },
    {
      "cell_type": "markdown",
      "source": [
        "### 推論の実行"
      ],
      "metadata": {
        "id": "fUhdT8Xk5EU2"
      }
    },
    {
      "cell_type": "code",
      "source": [
        "response = model.generate_content(\n",
        "    \"Google DeepMindとは？\"\n",
        ")\n",
        "print(response.text)"
      ],
      "metadata": {
        "colab": {
          "base_uri": "https://localhost:8080/",
          "height": 498
        },
        "id": "etlABIET49Wl",
        "outputId": "95e3bf4f-b895-4ff1-9baf-5f9bbe3e61ac"
      },
      "execution_count": 14,
      "outputs": [
        {
          "output_type": "stream",
          "name": "stdout",
          "text": [
            "Google DeepMindは、人工知能（AI）の研究開発を行うイギリスの企業です。2010年に設立され、2014年にGoogleによって買収されました。\n",
            "\n",
            "**Google DeepMindの主な特徴:**\n",
            "\n",
            "* **最先端のAI研究:** DeepMindは、機械学習、深層学習、強化学習などの分野で革新的な研究を行っています。\n",
            "* **画期的な成果:** AlphaGo、AlphaFold、AlphaStarなど、様々な分野で画期的な成果を挙げています。\n",
            "* **倫理的なAI開発:** DeepMindは、AIの倫理的な開発と利用を重視しています。\n",
            "* **応用分野:** DeepMindの技術は、医療、科学、ゲーム、エネルギーなど、幅広い分野で応用されています。\n",
            "\n",
            "**主な成果:**\n",
            "\n",
            "* **AlphaGo:** 2016年に世界トップクラスのプロ棋士を破った囲碁AI。\n",
            "* **AlphaFold:** タンパク質の構造を予測するAI。科学研究に大きな影響を与えています。\n",
            "* **AlphaStar:** StarCraft IIというリアルタイム戦略ゲームでプロゲーマーを破ったAI。\n",
            "\n",
            "**Google DeepMindの目的:**\n",
            "\n",
            "* AIの能力を最大限に引き出し、人類に利益をもたらす技術を開発する。\n",
            "* 科学技術の進歩に貢献する。\n",
            "* AIの倫理的な利用を推進する。\n",
            "\n",
            "**結論:**\n",
            "\n",
            "Google DeepMindは、AI分野のリーダーであり、世界をより良い場所にするために革新的な技術を開発しています。その画期的な成果は、私たちの生活に大きな影響を与え続けています。\n",
            "\n"
          ]
        }
      ]
    },
    {
      "cell_type": "markdown",
      "source": [
        "### stream\n",
        "「ストリーミング」は、テキスト生成の際に数文字ごとに出力を返す機能。デフォルトでは、すべての応答が生成されてから出力します。ストリーミングでより早くレスポンスを受け取り、ユーザーに表示することができます。"
      ],
      "metadata": {
        "id": "2GgSyoHP56dX"
      }
    },
    {
      "cell_type": "code",
      "source": [
        "response = model.generate_content(\n",
        "    \"Google DeepMindとは？\",\n",
        "    stream=True\n",
        ")\n",
        "\n",
        "for chunk in response:\n",
        "    print(chunk.text)\n",
        "    print(\"=====\")"
      ],
      "metadata": {
        "colab": {
          "base_uri": "https://localhost:8080/",
          "height": 977
        },
        "id": "geKgD5Bo5V6R",
        "outputId": "5bcdfd9b-2640-4e75-91c3-ce61cfbb5a05"
      },
      "execution_count": 17,
      "outputs": [
        {
          "output_type": "stream",
          "name": "stdout",
          "text": [
            "Google\n",
            "=====\n",
            " DeepMindは、人工知能（AI）の研究と開発に特\n",
            "=====\n",
            "化した、Googleの子会社です。\n",
            "\n",
            "**主な特徴:**\n",
            "\n",
            "* **最\n",
            "=====\n",
            "先端のAI技術:** DeepMindは、ディープラーニング、強化学習、ニューラルネットワークなどの分野で革新的な研究を行っています。\n",
            "=====\n",
            "\n",
            "* **画期的な成果:** AlphaGo、AlphaZero、AlphaFoldなどのAIシステムを開発し、ゲームや科学分野で大きな成果を上げて\n",
            "=====\n",
            "います。\n",
            "* **倫理的な取り組み:** AI開発における倫理的な課題に取り組み、責任あるAI技術の開発を目指しています。\n",
            "\n",
            "**重要な開発:**\n",
            "\n",
            "* **AlphaGo:** 2016年に囲碁\n",
            "=====\n",
            "の世界チャンピオンを破ったAIシステム。\n",
            "* **AlphaZero:** 将棋やチェスなど、さまざまなゲームで人間を凌駕するAIシステム。\n",
            "* **AlphaFold:** タンパク質の3次元構造を予測する\n",
            "=====\n",
            "AIシステム。\n",
            "* **WaveNet:** 音声合成技術。\n",
            "* **DALL-E:** テキストから画像を生成するAIシステム。\n",
            "\n",
            "**影響力:**\n",
            "\n",
            "Google DeepMindは、AI分野において世界をリードする存在であり、その研究成果は医療、科学、ビジネスなど\n",
            "=====\n",
            "、さまざまな分野に影響を与えています。\n",
            "\n",
            "**目標:**\n",
            "\n",
            "DeepMindの目標は、AI技術を活用して世界に貢献することです。具体的には、以下の課題に取り組んでいます。\n",
            "\n",
            "* 医療の進歩\n",
            "* 科学の発見\n",
            "* 持続可能なエネルギーの開発\n",
            "* 社会問題の解決\n",
            "\n",
            "\n",
            "=====\n",
            "**結論:**\n",
            "\n",
            "Google DeepMindは、AI技術の進歩を牽引する重要な機関であり、その革新的な研究成果は、人類の未来に大きな影響を与える可能性を秘めています。\n",
            "\n",
            "=====\n"
          ]
        }
      ]
    },
    {
      "cell_type": "markdown",
      "source": [
        "## Chat\n",
        "「チャット」を使うことで、マルチターン会話が可能になります。「chat.send_message()」の主なパラメータは、テキスト生成の「model.generate_content()」と 同 様 で す 。"
      ],
      "metadata": {
        "id": "AbQ0G0mk8lnq"
      }
    },
    {
      "cell_type": "markdown",
      "source": [
        "### Chatの準備"
      ],
      "metadata": {
        "id": "LrQx1ete8zRW"
      }
    },
    {
      "cell_type": "code",
      "source": [
        "chat = model.start_chat()"
      ],
      "metadata": {
        "id": "yyYbjVZf6g0t"
      },
      "execution_count": 19,
      "outputs": []
    },
    {
      "cell_type": "markdown",
      "source": [
        "### ひとつ目の質問"
      ],
      "metadata": {
        "id": "qlZ8zKz_9FtW"
      }
    },
    {
      "cell_type": "code",
      "source": [
        "response = chat.send_message(\n",
        "    \"おなかがすきました\"\n",
        ")\n",
        "print(response.text)\n"
      ],
      "metadata": {
        "colab": {
          "base_uri": "https://localhost:8080/",
          "height": 148
        },
        "id": "2NecFC8i9DmW",
        "outputId": "75931057-dcfa-4ba2-d37c-76798f025d2e"
      },
      "execution_count": 20,
      "outputs": [
        {
          "output_type": "stream",
          "name": "stdout",
          "text": [
            "お腹が空いているんですね！何か食べたいものはありますか？ \n",
            "\n",
            "もし、何か食べたいものが思いつかない場合は、私がいくつか提案しても良いですよ！ 例えば、ラーメン、パスタ、カレー、サンドイッチ、サラダなど、どんなものが食べたいですか？ \n",
            "\n",
            "あるいは、今どこにいるか教えていただければ、近くの美味しいお店を探してあげることもできますよ！ \n",
            "\n"
          ]
        }
      ]
    },
    {
      "cell_type": "markdown",
      "source": [
        "### ふたつ目の質問"
      ],
      "metadata": {
        "id": "pgC76Ng49kkU"
      }
    },
    {
      "cell_type": "code",
      "source": [
        "response = chat.send_message(\n",
        "    \"東京駅付近でラーメンのおすすめの店を教えてください\"\n",
        ")\n",
        "print(response.text)"
      ],
      "metadata": {
        "colab": {
          "base_uri": "https://localhost:8080/",
          "height": 608
        },
        "id": "xdA-b45z9g_z",
        "outputId": "5a41648e-8348-4202-e669-ffcacae21758"
      },
      "execution_count": 22,
      "outputs": [
        {
          "output_type": "stream",
          "name": "stdout",
          "text": [
            "東京駅付近のラーメン屋さんですね！ \n",
            "\n",
            "東京駅周辺はラーメン激戦区なので、いくつかおすすめのお店をご紹介します。 \n",
            "\n",
            "**【定番のラーメン】**\n",
            "\n",
            "* **東京ラーメンストリート (東京駅一番街地下1階)**: 様々なラーメン店が集まるフードコートです。 \n",
            "    * **「支那そば  やしま」**: 東京駅で人気の老舗。あっさりとした醤油ラーメンが楽しめます。\n",
            "    * **「斑鳩」**: 鶏白湯スープが絶品。濃厚でコクのあるラーメンが味わえます。\n",
            "    * **「AFURI」**: 柚子を使ったラーメンが特徴。爽やかな味わいが人気です。\n",
            "\n",
            "* **「ラーメン二郎  神田店」**:  二郎系ラーメンの有名店。ボリューム満点で食べ応えがあります。\n",
            "\n",
            "**【ちょっと変わったラーメン】**\n",
            "\n",
            "* **「麺屋武蔵 武蔵野製麺所 東京駅店」**:  つけ麺が人気。濃厚な魚介系のスープが特徴です。\n",
            "* **「博多ラーメン 博多一双 東京駅店」**:  博多ラーメンのお店。とんこつスープが濃厚で、替え玉も楽しめます。\n",
            "* **「東京駅ラーメン  麺処 ほん田」**:  魚介系のラーメンが人気。上品な味わいが特徴です。\n",
            "\n",
            "**【おしゃれなラーメン】**\n",
            "\n",
            "* **「ラーメン凪 東京駅店」**:  おしゃれな雰囲気のお店。ラーメンの種類も豊富です。\n",
            "* **「麺屋 一燈 東京駅店」**:  鶏白湯スープが美味しいラーメン店。店内は落ち着いた雰囲気です。\n",
            "\n",
            "**【予算】**\n",
            "上記のラーメン屋さんの価格は、大体800円〜1,200円くらいです。\n",
            "\n",
            "これらの情報はあくまでも一例です。 \n",
            "どのラーメン屋さんに行きたいか、決まりましたか？ \n",
            "\n",
            "もし、好みや予算など、もっと具体的な情報があれば、もっと絞り込んだおすすめのお店を紹介できますよ！ \n",
            "\n"
          ]
        }
      ]
    },
    {
      "cell_type": "code",
      "source": [
        "response = chat.send_message(\n",
        "    \"ラーメン二郎　神田店の詳細情報を教えてください\"\n",
        ")\n",
        "print(response.text)"
      ],
      "metadata": {
        "colab": {
          "base_uri": "https://localhost:8080/",
          "height": 1000
        },
        "id": "m3LYKVsT94VN",
        "outputId": "3695b79e-3aa6-46df-ce94-45b191aa2205"
      },
      "execution_count": 23,
      "outputs": [
        {
          "output_type": "stream",
          "name": "stdout",
          "text": [
            "ラーメン二郎 神田店ですね！ \n",
            "\n",
            "二郎系ラーメンの中でも、特に人気のお店の一つで、独特の雰囲気と、圧倒的なボリュームで知られています。 \n",
            "\n",
            "詳細情報は以下の通りです。 \n",
            "\n",
            "**【基本情報】**\n",
            "\n",
            "* **店名:** ラーメン二郎 神田店\n",
            "* **住所:** 東京都千代田区神田神保町1-10\n",
            "* **アクセス:**  東京メトロ半蔵門線・都営新宿線「神保町駅」A1出口より徒歩1分\n",
            "* **営業時間:** 11:30～14:30、18:00～21:00 \n",
            "* **定休日:** 日曜日、祝日 \n",
            "* **電話番号:** 03-3295-2223 \n",
            "* **平均予算:** 800円前後\n",
            "* **カード払い:** 不可\n",
            "* **電子マネー:** 不可\n",
            "\n",
            "**【お店の雰囲気】**\n",
            "\n",
            "* 昔ながらのラーメン屋さんのような、少しレトロな雰囲気です。\n",
            "* 店内はカウンター席のみで、狭く、席数も少ないため、混雑時は待ち時間が長くなることがあります。\n",
            "*  男性客が多く、活気のある雰囲気です。\n",
            "\n",
            "**【メニュー】**\n",
            "\n",
            "* ラーメン:  ラーメンは「小」から「大」まで、さらに「ぶた入り」などのトッピングを選べます。 \n",
            "*  ぶた:  チャーシューのこと。追加で注文できます。\n",
            "*  野菜:  もやしとキャベツの量を調整できます。\n",
            "*  ニンニク:  無料で追加できます。\n",
            "*  アブラ:  背脂の量を調整できます。\n",
            "\n",
            "**【特徴】**\n",
            "\n",
            "* **ボリューム満点:**  二郎系のラーメンの特徴として、とにかくボリュームがすごい！  麺の量は「小」でもかなり多いです。 \n",
            "* **濃厚な豚骨醤油スープ:**  豚骨ベースの濃厚なスープは、パンチが効いていて、中毒性があります。 \n",
            "* **太麺:**  極太の麺は、スープによく絡み、食べ応えがあります。 \n",
            "* **独特のルール:**  初めて行く方は、券売機での注文方法や、トッピングの注文方法など、お店独自のルールがありますので、事前に調べておくことをおすすめします。\n",
            "\n",
            "**【注意すべき点】**\n",
            "\n",
            "* **混雑:**  お昼時は特に混雑するため、待ち時間が長くなることを覚悟しておきましょう。 \n",
            "* **ボリューム:**  初めての方は、まずは「小」から試すことをおすすめします。 \n",
            "* **ニンニク:**  ニンニクは無料で追加できますが、匂いが気になる方は注意が必要です。 \n",
            "* **現金払いのみ:**  クレジットカードや電子マネーは使えません。\n",
            "\n",
            "\n",
            "いかがでしたでしょうか？\n",
            "\n",
            "二郎系ラーメンは独特の味が魅力ですが、好みが分かれるところでもあります。\n",
            "初めて行く場合は、事前に情報を集めてから行くことをおすすめします。 \n",
            "\n",
            "もし、他に気になることがあれば、お気軽にご質問ください。 \n",
            "\n"
          ]
        }
      ]
    },
    {
      "cell_type": "code",
      "source": [
        "for message in chat.history:\n",
        "    print(message.role, \" : \" ,message.parts[0].text.replace(\"\\n\",\"\"))"
      ],
      "metadata": {
        "colab": {
          "base_uri": "https://localhost:8080/"
        },
        "id": "_lickl2p-ZbB",
        "outputId": "45c9b35c-294e-496b-929a-b5db3b1ae4f6"
      },
      "execution_count": 27,
      "outputs": [
        {
          "output_type": "stream",
          "name": "stdout",
          "text": [
            "user  :  おなかがすきました\n",
            "model  :  お腹が空いているんですね！何か食べたいものはありますか？ もし、何か食べたいものが思いつかない場合は、私がいくつか提案しても良いですよ！ 例えば、ラーメン、パスタ、カレー、サンドイッチ、サラダなど、どんなものが食べたいですか？ あるいは、今どこにいるか教えていただければ、近くの美味しいお店を探してあげることもできますよ！ \n",
            "user  :  ラーメンのおすすめの店を教えてください\n",
            "model  :  ラーメンのおすすめのお店ですね！ 美味しいラーメン屋さんはたくさんあるので、もう少し詳しく教えていただけますか？ 例えば、* どんな味のラーメンが好きですか？ (とんこつ、醤油、味噌、塩、魚介系など)* どんな雰囲気のお店が好きですか？ (おしゃれなお店、昔ながらのお店、賑やかなお店など)* 予算はどのくらいですか？* どの辺りのお店を探していますか？ (具体的な場所や最寄りの駅を教えてください) これらの情報があれば、あなたにぴったりのラーメン屋さんを見つけるお手伝いができます！ \n",
            "user  :  東京駅付近でラーメンのおすすめの店を教えてください\n",
            "model  :  東京駅付近のラーメン屋さんですね！ 東京駅周辺はラーメン激戦区なので、いくつかおすすめのお店をご紹介します。 **【定番のラーメン】*** **東京ラーメンストリート (東京駅一番街地下1階)**: 様々なラーメン店が集まるフードコートです。     * **「支那そば  やしま」**: 東京駅で人気の老舗。あっさりとした醤油ラーメンが楽しめます。    * **「斑鳩」**: 鶏白湯スープが絶品。濃厚でコクのあるラーメンが味わえます。    * **「AFURI」**: 柚子を使ったラーメンが特徴。爽やかな味わいが人気です。* **「ラーメン二郎  神田店」**:  二郎系ラーメンの有名店。ボリューム満点で食べ応えがあります。**【ちょっと変わったラーメン】*** **「麺屋武蔵 武蔵野製麺所 東京駅店」**:  つけ麺が人気。濃厚な魚介系のスープが特徴です。* **「博多ラーメン 博多一双 東京駅店」**:  博多ラーメンのお店。とんこつスープが濃厚で、替え玉も楽しめます。* **「東京駅ラーメン  麺処 ほん田」**:  魚介系のラーメンが人気。上品な味わいが特徴です。**【おしゃれなラーメン】*** **「ラーメン凪 東京駅店」**:  おしゃれな雰囲気のお店。ラーメンの種類も豊富です。* **「麺屋 一燈 東京駅店」**:  鶏白湯スープが美味しいラーメン店。店内は落ち着いた雰囲気です。**【予算】**上記のラーメン屋さんの価格は、大体800円〜1,200円くらいです。これらの情報はあくまでも一例です。 どのラーメン屋さんに行きたいか、決まりましたか？ もし、好みや予算など、もっと具体的な情報があれば、もっと絞り込んだおすすめのお店を紹介できますよ！ \n",
            "user  :  ラーメン二郎　神田店の詳細情報を教えてください\n",
            "model  :  ラーメン二郎 神田店ですね！ 二郎系ラーメンの中でも、特に人気のお店の一つで、独特の雰囲気と、圧倒的なボリュームで知られています。 詳細情報は以下の通りです。 **【基本情報】*** **店名:** ラーメン二郎 神田店* **住所:** 東京都千代田区神田神保町1-10* **アクセス:**  東京メトロ半蔵門線・都営新宿線「神保町駅」A1出口より徒歩1分* **営業時間:** 11:30～14:30、18:00～21:00 * **定休日:** 日曜日、祝日 * **電話番号:** 03-3295-2223 * **平均予算:** 800円前後* **カード払い:** 不可* **電子マネー:** 不可**【お店の雰囲気】*** 昔ながらのラーメン屋さんのような、少しレトロな雰囲気です。* 店内はカウンター席のみで、狭く、席数も少ないため、混雑時は待ち時間が長くなることがあります。*  男性客が多く、活気のある雰囲気です。**【メニュー】*** ラーメン:  ラーメンは「小」から「大」まで、さらに「ぶた入り」などのトッピングを選べます。 *  ぶた:  チャーシューのこと。追加で注文できます。*  野菜:  もやしとキャベツの量を調整できます。*  ニンニク:  無料で追加できます。*  アブラ:  背脂の量を調整できます。**【特徴】*** **ボリューム満点:**  二郎系のラーメンの特徴として、とにかくボリュームがすごい！  麺の量は「小」でもかなり多いです。 * **濃厚な豚骨醤油スープ:**  豚骨ベースの濃厚なスープは、パンチが効いていて、中毒性があります。 * **太麺:**  極太の麺は、スープによく絡み、食べ応えがあります。 * **独特のルール:**  初めて行く方は、券売機での注文方法や、トッピングの注文方法など、お店独自のルールがありますので、事前に調べておくことをおすすめします。**【注意すべき点】*** **混雑:**  お昼時は特に混雑するため、待ち時間が長くなることを覚悟しておきましょう。 * **ボリューム:**  初めての方は、まずは「小」から試すことをおすすめします。 * **ニンニク:**  ニンニクは無料で追加できますが、匂いが気になる方は注意が必要です。 * **現金払いのみ:**  クレジットカードや電子マネーは使えません。いかがでしたでしょうか？二郎系ラーメンは独特の味が魅力ですが、好みが分かれるところでもあります。初めて行く場合は、事前に情報を集めてから行くことをおすすめします。 もし、他に気になることがあれば、お気軽にご質問ください。 \n"
          ]
        }
      ]
    },
    {
      "cell_type": "code",
      "source": [],
      "metadata": {
        "id": "rdDfqqkA-rh4"
      },
      "execution_count": null,
      "outputs": []
    }
  ]
}