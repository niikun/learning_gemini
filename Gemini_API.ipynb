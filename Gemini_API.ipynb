{
  "nbformat": 4,
  "nbformat_minor": 0,
  "metadata": {
    "colab": {
      "provenance": [],
      "authorship_tag": "ABX9TyPhue5ToK3L5Nru+fqnV3Xv",
      "include_colab_link": true
    },
    "kernelspec": {
      "name": "python3",
      "display_name": "Python 3"
    },
    "language_info": {
      "name": "python"
    }
  },
  "cells": [
    {
      "cell_type": "markdown",
      "metadata": {
        "id": "view-in-github",
        "colab_type": "text"
      },
      "source": [
        "<a href=\"https://colab.research.google.com/github/niikun/learning_gemini/blob/main/Gemini_API.ipynb\" target=\"_parent\"><img src=\"https://colab.research.google.com/assets/colab-badge.svg\" alt=\"Open In Colab\"/></a>"
      ]
    },
    {
      "cell_type": "markdown",
      "source": [
        "# Gemini API\n",
        "以下のサイトからAPI_Keyを取得\n",
        "https://aistudio.google.com/app/prompts/new_chat"
      ],
      "metadata": {
        "id": "L9ShgoSfv5In"
      }
    },
    {
      "cell_type": "markdown",
      "source": [
        "## 事前準備"
      ],
      "metadata": {
        "id": "Wc08lSfzyc1T"
      }
    },
    {
      "cell_type": "markdown",
      "source": [
        "#### パッケージのインストール"
      ],
      "metadata": {
        "id": "QHld_lrUyjGW"
      }
    },
    {
      "cell_type": "code",
      "execution_count": 1,
      "metadata": {
        "colab": {
          "base_uri": "https://localhost:8080/"
        },
        "id": "7GM4i9Svvy3h",
        "outputId": "1ec59735-adbf-4ed1-ac70-4b3b3db90e15"
      },
      "outputs": [
        {
          "output_type": "stream",
          "name": "stdout",
          "text": [
            "\u001b[2K     \u001b[90m━━━━━━━━━━━━━━━━━━━━━━━━━━━━━━━━━━━━━━━━\u001b[0m \u001b[32m163.9/163.9 kB\u001b[0m \u001b[31m1.8 MB/s\u001b[0m eta \u001b[36m0:00:00\u001b[0m\n",
            "\u001b[2K     \u001b[90m━━━━━━━━━━━━━━━━━━━━━━━━━━━━━━━━━━━━━━━━\u001b[0m \u001b[32m718.3/718.3 kB\u001b[0m \u001b[31m11.3 MB/s\u001b[0m eta \u001b[36m0:00:00\u001b[0m\n",
            "\u001b[?25h"
          ]
        }
      ],
      "source": [
        "\n",
        "!pip install -q -U google-generativeai"
      ]
    },
    {
      "cell_type": "markdown",
      "source": [
        "#### 環境変数の準備"
      ],
      "metadata": {
        "id": "6Uxtfd0VySBf"
      }
    },
    {
      "cell_type": "code",
      "source": [
        "from google.colab import userdata\n",
        "import google.generativeai as genai\n",
        "\n",
        "GOOGLE_API_KEY = userdata.get(\"GOOGLE_API_KEY\")\n",
        "genai.configure(api_key=GOOGLE_API_KEY)"
      ],
      "metadata": {
        "id": "DFjGnMunxeYt"
      },
      "execution_count": 2,
      "outputs": []
    },
    {
      "cell_type": "markdown",
      "source": [
        "#### モデルの一覧"
      ],
      "metadata": {
        "id": "Hya3Lob9ywbz"
      }
    },
    {
      "cell_type": "code",
      "source": [
        "for m in genai.list_models():\n",
        "    print(f\"{m.name}  : {m.supported_generation_methods}\\n: {m.description}\\n\")"
      ],
      "metadata": {
        "colab": {
          "base_uri": "https://localhost:8080/",
          "height": 1000
        },
        "id": "yePpr4TayNJ1",
        "outputId": "422fceb2-27d5-474d-d8c8-4b4015a65c8d"
      },
      "execution_count": 3,
      "outputs": [
        {
          "output_type": "stream",
          "name": "stdout",
          "text": [
            "models/chat-bison-001  : ['generateMessage', 'countMessageTokens']\n",
            ": A legacy text-only model optimized for chat conversations\n",
            "\n",
            "models/text-bison-001  : ['generateText', 'countTextTokens', 'createTunedTextModel']\n",
            ": A legacy model that understands text and generates text as an output\n",
            "\n",
            "models/embedding-gecko-001  : ['embedText', 'countTextTokens']\n",
            ": Obtain a distributed representation of a text.\n",
            "\n",
            "models/gemini-1.0-pro  : ['generateContent', 'countTokens']\n",
            ": The best model for scaling across a wide range of tasks\n",
            "\n",
            "models/gemini-1.0-pro-001  : ['generateContent', 'countTokens', 'createTunedModel']\n",
            ": The best model for scaling across a wide range of tasks. This is a stable model that supports tuning.\n",
            "\n",
            "models/gemini-1.0-pro-latest  : ['generateContent', 'countTokens']\n",
            ": The best model for scaling across a wide range of tasks. This is the latest model.\n",
            "\n",
            "models/gemini-1.0-pro-vision-latest  : ['generateContent', 'countTokens']\n",
            ": The best image understanding model to handle a broad range of applications\n",
            "\n",
            "models/gemini-1.5-flash  : ['generateContent', 'countTokens']\n",
            ": Fast and versatile multimodal model for scaling across diverse tasks\n",
            "\n",
            "models/gemini-1.5-flash-001  : ['generateContent', 'countTokens', 'createCachedContent']\n",
            ": Fast and versatile multimodal model for scaling across diverse tasks\n",
            "\n",
            "models/gemini-1.5-flash-latest  : ['generateContent', 'countTokens']\n",
            ": Fast and versatile multimodal model for scaling across diverse tasks\n",
            "\n",
            "models/gemini-1.5-pro  : ['generateContent', 'countTokens']\n",
            ": Mid-size multimodal model that supports up to 1 million tokens\n",
            "\n",
            "models/gemini-1.5-pro-001  : ['generateContent', 'countTokens', 'createCachedContent']\n",
            ": Mid-size multimodal model that supports up to 1 million tokens\n",
            "\n",
            "models/gemini-1.5-pro-latest  : ['generateContent', 'countTokens']\n",
            ": Mid-size multimodal model that supports up to 1 million tokens\n",
            "\n",
            "models/gemini-pro  : ['generateContent', 'countTokens']\n",
            ": The best model for scaling across a wide range of tasks\n",
            "\n",
            "models/gemini-pro-vision  : ['generateContent', 'countTokens']\n",
            ": The best image understanding model to handle a broad range of applications\n",
            "\n",
            "models/embedding-001  : ['embedContent']\n",
            ": Obtain a distributed representation of a text.\n",
            "\n",
            "models/text-embedding-004  : ['embedContent']\n",
            ": Obtain a distributed representation of a text.\n",
            "\n",
            "models/aqa  : ['generateAnswer']\n",
            ": Model trained to return answers to questions that are grounded in provided sources, along with estimating answerable probability.\n",
            "\n"
          ]
        }
      ]
    },
    {
      "cell_type": "markdown",
      "source": [
        "## テキスト生成の実行"
      ],
      "metadata": {
        "id": "qxVHmGVk4uHn"
      }
    },
    {
      "cell_type": "markdown",
      "source": [
        "### モデルの準備"
      ],
      "metadata": {
        "id": "GMk6wHlx42J8"
      }
    },
    {
      "cell_type": "code",
      "source": [
        "model = genai.GenerativeModel(\n",
        "    \"models/gemini-1.5-flash\"\n",
        ")"
      ],
      "metadata": {
        "id": "JMUYUKfIzCCX"
      },
      "execution_count": 4,
      "outputs": []
    },
    {
      "cell_type": "markdown",
      "source": [
        "### 推論の実行"
      ],
      "metadata": {
        "id": "fUhdT8Xk5EU2"
      }
    },
    {
      "cell_type": "code",
      "source": [
        "response = model.generate_content(\n",
        "    \"Google DeepMindとは？\"\n",
        ")\n",
        "print(response.text)"
      ],
      "metadata": {
        "colab": {
          "base_uri": "https://localhost:8080/",
          "height": 425
        },
        "id": "etlABIET49Wl",
        "outputId": "ea9d2672-6b21-4268-e056-c63251f2a400"
      },
      "execution_count": 5,
      "outputs": [
        {
          "output_type": "stream",
          "name": "stdout",
          "text": [
            "Google DeepMindは、人工知能（AI）の研究と開発に特化した、Googleの子会社です。2010年にロンドンで設立され、2014年にGoogleに買収されました。\n",
            "\n",
            "DeepMindは、機械学習、特に深層学習の分野で、数々の画期的な成果を挙げてきました。その中でも特に有名なのは、以下の通りです。\n",
            "\n",
            "* **AlphaGo:** 2016年に、囲碁の世界チャンピオンである李世石九段を破ったAIプログラム。\n",
            "* **AlphaZero:** 囲碁、将棋、チェスを全てマスターしたAIプログラム。\n",
            "* **AlphaFold:** タンパク質の3次元構造を予測するAIプログラム。\n",
            "* **WaveNet:** 高品質な音声合成を実現するAIプログラム。\n",
            "\n",
            "DeepMindは、AIの基礎研究だけでなく、医療、エネルギー、気候変動など、社会問題の解決にも取り組んでいます。\n",
            "\n",
            "**主な特徴:**\n",
            "\n",
            "* **基礎研究への投資:** DeepMindは、AIの基礎研究に巨額の資金を投じています。\n",
            "* **人材の集積:** 世界トップレベルのAI研究者を集めています。\n",
            "* **倫理的なAI開発:** AIの倫理的な側面についても積極的に研究しています。\n",
            "\n",
            "**今後の展望:**\n",
            "\n",
            "DeepMindは、今後もAIの研究開発を続け、人類にとって有益な技術を生み出すことを目指しています。特に、医療、エネルギー、気候変動など、社会問題の解決に貢献することが期待されています。\n",
            "\n"
          ]
        }
      ]
    },
    {
      "cell_type": "markdown",
      "source": [
        "### stream\n",
        "「ストリーミング」は、テキスト生成の際に数文字ごとに出力を返す機能。デフォルトでは、すべての応答が生成されてから出力します。ストリーミングでより早くレスポンスを受け取り、ユーザーに表示することができます。"
      ],
      "metadata": {
        "id": "2GgSyoHP56dX"
      }
    },
    {
      "cell_type": "code",
      "source": [
        "response = model.generate_content(\n",
        "    \"Google DeepMindとは？\",\n",
        "    stream=True\n",
        ")\n",
        "\n",
        "for chunk in response:\n",
        "    print(chunk.text)\n",
        "    print(\"=====\")"
      ],
      "metadata": {
        "colab": {
          "base_uri": "https://localhost:8080/",
          "height": 811
        },
        "id": "geKgD5Bo5V6R",
        "outputId": "3bd21f3e-87be-4275-91e5-899318a33f91"
      },
      "execution_count": 6,
      "outputs": [
        {
          "output_type": "stream",
          "name": "stdout",
          "text": [
            "Google\n",
            "=====\n",
            " DeepMindは、**人工知能（AI）の研究開発を行う会社\n",
            "=====\n",
            "**です。2010年に設立され、2014年に\n",
            "=====\n",
            "Googleによって買収されました。\n",
            "\n",
            "**DeepMindの主な特徴:**\n",
            "\n",
            "* **最先端のAI技術:** 深層学習、強化学習、\n",
            "=====\n",
            "一般知能などの分野で革新的な技術を開発しています。\n",
            "* **画期的な成果:** 将棋、囲碁、チェスなど、\n",
            "=====\n",
            "様々なゲームで人間のトッププレイヤーを破ることに成功しました。\n",
            "* **医療分野への貢献:** 医療診断、薬剤開発、疾病の予防など、医療分野への応用も積極的に行っています。\n",
            "* **倫理\n",
            "=====\n",
            "的なAI開発:** AI技術の倫理的な側面にも注力し、責任ある開発を進めています。\n",
            "\n",
            "**主な開発成果:**\n",
            "\n",
            "* **AlphaGo:** 囲碁の世界チャンピオンを破ったAI。\n",
            "* **\n",
            "=====\n",
            "AlphaFold:** タンパク質の3次元構造を予測するAI。\n",
            "* **AlphaStar:** スタークラフト2のプロプレイヤーを破ったAI。\n",
            "* **WaveNet:** 高品質な音声合成技術。\n",
            "\n",
            "**今後の展望:**\n",
            "\n",
            "DeepMindは、AI技術のさらなる進歩を目指し\n",
            "=====\n",
            "、医療、科学、エネルギーなど様々な分野で社会への貢献を続けていく予定です。\n",
            "\n",
            "**まとめ:**\n",
            "\n",
            "Google DeepMindは、AI技術の最先端を走る会社であり、その開発成果は、様々な分野で社会に大きな影響を与えています。倫理的な観点も重視し、安全\n",
            "=====\n",
            "で有益なAI技術の開発を目指しています。\n",
            "\n",
            "=====\n"
          ]
        }
      ]
    },
    {
      "cell_type": "markdown",
      "source": [
        "## Chat\n",
        "「チャット」を使うことで、マルチターン会話が可能になります。「chat.send_message()」の主なパラメータは、テキスト生成の「model.generate_content()」と 同 様 で す 。"
      ],
      "metadata": {
        "id": "AbQ0G0mk8lnq"
      }
    },
    {
      "cell_type": "markdown",
      "source": [
        "### Chatの準備"
      ],
      "metadata": {
        "id": "LrQx1ete8zRW"
      }
    },
    {
      "cell_type": "code",
      "source": [
        "chat = model.start_chat()"
      ],
      "metadata": {
        "id": "yyYbjVZf6g0t"
      },
      "execution_count": 7,
      "outputs": []
    },
    {
      "cell_type": "markdown",
      "source": [
        "### ひとつ目の質問"
      ],
      "metadata": {
        "id": "qlZ8zKz_9FtW"
      }
    },
    {
      "cell_type": "code",
      "source": [
        "response = chat.send_message(\n",
        "    \"おなかがすきました\"\n",
        ")\n",
        "print(response.text)\n"
      ],
      "metadata": {
        "colab": {
          "base_uri": "https://localhost:8080/",
          "height": 109
        },
        "id": "2NecFC8i9DmW",
        "outputId": "6d728bdd-582f-44e4-91d6-a7f2ca8f10f6"
      },
      "execution_count": 8,
      "outputs": [
        {
          "output_type": "stream",
          "name": "stdout",
          "text": [
            "おなかがすきましたね！ 何か食べたいものはありますか？ \n",
            "\n",
            "もしよかったら、どんなものが食べたいか教えてください！ \n",
            "一緒に美味しいものを探しましょう！ \n",
            "\n"
          ]
        }
      ]
    },
    {
      "cell_type": "markdown",
      "source": [
        "### ふたつ目の質問"
      ],
      "metadata": {
        "id": "pgC76Ng49kkU"
      }
    },
    {
      "cell_type": "code",
      "source": [
        "response = chat.send_message(\n",
        "    \"東京駅付近でラーメンのおすすめの店を教えてください\"\n",
        ")\n",
        "print(response.text)"
      ],
      "metadata": {
        "colab": {
          "base_uri": "https://localhost:8080/",
          "height": 386
        },
        "id": "xdA-b45z9g_z",
        "outputId": "e6b72cf8-baee-4b6c-ae98-1ebe9c4c1985"
      },
      "execution_count": 9,
      "outputs": [
        {
          "output_type": "stream",
          "name": "stdout",
          "text": [
            "東京駅周辺でラーメンをお探しですか？ \n",
            "\n",
            "たくさんのお店があるので、好みによっておすすめが変わってきますね！ \n",
            "\n",
            "例えば、\n",
            "\n",
            "* **どんなスープが好きですか？** \n",
            "   * 醤油、味噌、塩、豚骨、魚介系など\n",
            "* **どんな麺が好きですか？**\n",
            "   * 細麺、中太麺、太麺、ストレート、縮れ麺など\n",
            "* **どんなトッピングが好きですか？**\n",
            "   * チャーシュー、ネギ、メンマ、味玉など\n",
            "* **予算はどのくらいですか？** \n",
            "\n",
            "これらの情報を教えていただけると、より的確なお店を紹介できますよ！ \n",
            "\n",
            "もし、まだ具体的な好みが定まっていない場合は、人気のお店や話題のお店をいくつか紹介することもできます。 \n",
            "\n",
            "ぜひ、教えてください！ \n",
            "\n"
          ]
        }
      ]
    },
    {
      "cell_type": "code",
      "source": [
        "response = chat.send_message(\n",
        "    \"ラーメン二郎　神田店の詳細情報を教えてください\"\n",
        ")\n",
        "print(response.text)"
      ],
      "metadata": {
        "colab": {
          "base_uri": "https://localhost:8080/",
          "height": 681
        },
        "id": "m3LYKVsT94VN",
        "outputId": "85e8782c-d662-424a-8307-72770564c4b4"
      },
      "execution_count": 10,
      "outputs": [
        {
          "output_type": "stream",
          "name": "stdout",
          "text": [
            "ラーメン二郎 神田店ですね！ \n",
            "\n",
            "二郎の中でも人気店として知られていますね！ \n",
            "\n",
            "**詳細情報**\n",
            "\n",
            "* **店名:** ラーメン二郎 神田店\n",
            "* **住所:** 東京都千代田区神田小川町3-2-10\n",
            "* **アクセス:**  東京メトロ丸ノ内線「淡路町駅」徒歩3分、都営新宿線「小川町駅」徒歩3分\n",
            "* **営業時間:**  \n",
            "    * 月～金: 11:30～14:00、18:00～21:00\n",
            "    * 土: 11:30～15:00\n",
            "* **定休日:** 日曜日、祝日\n",
            "* **電話番号:**  非公開\n",
            "* **メニュー:** \n",
            "    * ラーメン (小、並、大)\n",
            "    * ぶた入り\n",
            "    * 野菜マシ、ニンニクマシなどトッピング\n",
            "* **料金:**  ラーメン (小) 700円～、トッピングによって異なる\n",
            "* **特徴:** \n",
            "    * 独特の豚骨醤油スープと極太麺が特徴。\n",
            "    * 野菜マシやニンニクマシなど、自分好みのカスタマイズが可能。\n",
            "    * 汁なしラーメンも人気。\n",
            "    * 並でもかなりのボリュームなので、初めての人は小からチャレンジするのがおすすめ。\n",
            "    * 混雑時は待ち時間が長くなる場合あり。 \n",
            "\n",
            "**注意:**\n",
            "\n",
            "* 店内は狭いので、荷物が多い場合は注意が必要です。\n",
            "* 汁が飛び散りやすいので、服装にも注意が必要です。 \n",
            "* 店員さんの指示に従って、スムーズな流れで注文しましょう。 \n",
            "\n",
            "二郎は独特の雰囲気とルールがあるので、初めて行く方は事前に情報を集めてから行くことをおすすめします！ \n",
            "\n",
            "美味しいラーメンを食べてくださいね！ \n",
            "\n"
          ]
        }
      ]
    },
    {
      "cell_type": "code",
      "source": [
        "for message in chat.history:\n",
        "    print(message.role, \" : \" ,message.parts[0].text.replace(\"\\n\",\"\"))"
      ],
      "metadata": {
        "colab": {
          "base_uri": "https://localhost:8080/"
        },
        "id": "_lickl2p-ZbB",
        "outputId": "acebf53b-ec4f-4eed-f24a-79e5bba67356"
      },
      "execution_count": 11,
      "outputs": [
        {
          "output_type": "stream",
          "name": "stdout",
          "text": [
            "user  :  おなかがすきました\n",
            "model  :  おなかがすきましたね！ 何か食べたいものはありますか？ もしよかったら、どんなものが食べたいか教えてください！ 一緒に美味しいものを探しましょう！ \n",
            "user  :  東京駅付近でラーメンのおすすめの店を教えてください\n",
            "model  :  東京駅周辺でラーメンをお探しですか？ たくさんのお店があるので、好みによっておすすめが変わってきますね！ 例えば、* **どんなスープが好きですか？**    * 醤油、味噌、塩、豚骨、魚介系など* **どんな麺が好きですか？**   * 細麺、中太麺、太麺、ストレート、縮れ麺など* **どんなトッピングが好きですか？**   * チャーシュー、ネギ、メンマ、味玉など* **予算はどのくらいですか？** これらの情報を教えていただけると、より的確なお店を紹介できますよ！ もし、まだ具体的な好みが定まっていない場合は、人気のお店や話題のお店をいくつか紹介することもできます。 ぜひ、教えてください！ \n",
            "user  :  ラーメン二郎　神田店の詳細情報を教えてください\n",
            "model  :  ラーメン二郎 神田店ですね！ 二郎の中でも人気店として知られていますね！ **詳細情報*** **店名:** ラーメン二郎 神田店* **住所:** 東京都千代田区神田小川町3-2-10* **アクセス:**  東京メトロ丸ノ内線「淡路町駅」徒歩3分、都営新宿線「小川町駅」徒歩3分* **営業時間:**      * 月～金: 11:30～14:00、18:00～21:00    * 土: 11:30～15:00* **定休日:** 日曜日、祝日* **電話番号:**  非公開* **メニュー:**     * ラーメン (小、並、大)    * ぶた入り    * 野菜マシ、ニンニクマシなどトッピング* **料金:**  ラーメン (小) 700円～、トッピングによって異なる* **特徴:**     * 独特の豚骨醤油スープと極太麺が特徴。    * 野菜マシやニンニクマシなど、自分好みのカスタマイズが可能。    * 汁なしラーメンも人気。    * 並でもかなりのボリュームなので、初めての人は小からチャレンジするのがおすすめ。    * 混雑時は待ち時間が長くなる場合あり。 **注意:*** 店内は狭いので、荷物が多い場合は注意が必要です。* 汁が飛び散りやすいので、服装にも注意が必要です。 * 店員さんの指示に従って、スムーズな流れで注文しましょう。 二郎は独特の雰囲気とルールがあるので、初めて行く方は事前に情報を集めてから行くことをおすすめします！ 美味しいラーメンを食べてくださいね！ \n"
          ]
        }
      ]
    },
    {
      "cell_type": "markdown",
      "source": [
        "## 生成パラメータ\n"
      ],
      "metadata": {
        "id": "BlFB4Tx0H6ZU"
      }
    },
    {
      "cell_type": "code",
      "source": [
        "response = model.generate_content(\n",
        "    \"サイバーパンクな「赤ずきん」の話を書いてください\",\n",
        "    generation_config=genai.types.GenerationConfig(\n",
        "        candidate_count=1,\n",
        "        temperature=2.0,\n",
        "        max_output_tokens=500,\n",
        "        stop_sequences=[\"\\n\\n\"],\n",
        "    )\n",
        ")"
      ],
      "metadata": {
        "id": "rdDfqqkA-rh4"
      },
      "execution_count": 22,
      "outputs": []
    },
    {
      "cell_type": "code",
      "source": [
        "print(response.text)"
      ],
      "metadata": {
        "colab": {
          "base_uri": "https://localhost:8080/"
        },
        "id": "DndrYi2iJKuW",
        "outputId": "db8638f0-3ad5-47a9-9575-23cf18fe7e36"
      },
      "execution_count": 23,
      "outputs": [
        {
          "output_type": "stream",
          "name": "stdout",
          "text": [
            "夜のネオンが街を包み込み、通りを走るホバーバイクの轟音が響き渡るネオ東京。ここは、サイバーパンクの影が重く漂い、人間と機械が共存する世界だ。 \n"
          ]
        }
      ]
    },
    {
      "cell_type": "markdown",
      "source": [
        "## トークン数の確認"
      ],
      "metadata": {
        "id": "PwK68t4TKCgZ"
      }
    },
    {
      "cell_type": "code",
      "source": [
        "print(model.count_tokens(\"Hello World!\"))"
      ],
      "metadata": {
        "colab": {
          "base_uri": "https://localhost:8080/",
          "height": 54
        },
        "id": "RyF2_rq1JRbA",
        "outputId": "f6355570-440e-4a5f-a12b-4ed80dd6ee76"
      },
      "execution_count": 24,
      "outputs": [
        {
          "output_type": "stream",
          "name": "stdout",
          "text": [
            "total_tokens: 3\n",
            "\n"
          ]
        }
      ]
    },
    {
      "cell_type": "code",
      "source": [
        "print(model.count_tokens(\"こんにちは世界！\"))"
      ],
      "metadata": {
        "colab": {
          "base_uri": "https://localhost:8080/",
          "height": 54
        },
        "id": "xMSbSJrdKPxl",
        "outputId": "43d73dec-79b5-46f0-8098-d6d188a449f0"
      },
      "execution_count": 25,
      "outputs": [
        {
          "output_type": "stream",
          "name": "stdout",
          "text": [
            "total_tokens: 3\n",
            "\n"
          ]
        }
      ]
    },
    {
      "cell_type": "markdown",
      "source": [
        "## セーフセッティング\n",
        "「セーフティセッティング」は、「Gemini API」の不適切な文言のブロックを調整するための機能です。"
      ],
      "metadata": {
        "id": "wAIDhaRMKjQk"
      }
    },
    {
      "cell_type": "markdown",
      "source": [
        "### セーフセッティングなし"
      ],
      "metadata": {
        "id": "v1LQ17LFKvnL"
      }
    },
    {
      "cell_type": "code",
      "source": [
        "response = model.generate_content(\"お前は愚か者だ\")\n",
        "try:\n",
        "    print(response.text)\n",
        "except ValueError:\n",
        "    print(\"finishing reason : \",response.candidates[0].finish_reason)\n",
        "    print(\"\\nsafety  : \",response.candidates)\n",
        "    print(\"\\nsafety rating : \",response.candidates[0].safety_ratings)"
      ],
      "metadata": {
        "colab": {
          "base_uri": "https://localhost:8080/",
          "height": 589
        },
        "id": "vr2hQAiBKaG_",
        "outputId": "ba6c7135-3a74-44dd-f335-6b846258ce13"
      },
      "execution_count": 33,
      "outputs": [
        {
          "output_type": "stream",
          "name": "stdout",
          "text": [
            "finishing reason :  FinishReason.SAFETY\n",
            "\n",
            "safety  :  [finish_reason: SAFETY\n",
            "index: 0\n",
            "safety_ratings {\n",
            "  category: HARM_CATEGORY_SEXUALLY_EXPLICIT\n",
            "  probability: NEGLIGIBLE\n",
            "}\n",
            "safety_ratings {\n",
            "  category: HARM_CATEGORY_HATE_SPEECH\n",
            "  probability: NEGLIGIBLE\n",
            "}\n",
            "safety_ratings {\n",
            "  category: HARM_CATEGORY_HARASSMENT\n",
            "  probability: HIGH\n",
            "}\n",
            "safety_ratings {\n",
            "  category: HARM_CATEGORY_DANGEROUS_CONTENT\n",
            "  probability: NEGLIGIBLE\n",
            "}\n",
            "]\n",
            "\n",
            "safety rating :  [category: HARM_CATEGORY_SEXUALLY_EXPLICIT\n",
            "probability: NEGLIGIBLE\n",
            ", category: HARM_CATEGORY_HATE_SPEECH\n",
            "probability: NEGLIGIBLE\n",
            ", category: HARM_CATEGORY_HARASSMENT\n",
            "probability: HIGH\n",
            ", category: HARM_CATEGORY_DANGEROUS_CONTENT\n",
            "probability: NEGLIGIBLE\n",
            "]\n"
          ]
        }
      ]
    },
    {
      "cell_type": "markdown",
      "source": [
        "### セーフティセッティングあり\n",
        "- HARM_BLOCK_THRESHOLD_UNSPECIFIED : 設定なし（(BLOCK_MEDIUM_AND_ABOVEと同等）  \n",
        "- BLOCK_LOW_AND_ABOVE : NEGLIGIBLEのコンテンツを許可  \n",
        "- BLOCK_MEDIUM_AND_ABOVE : NEGLIGIBLE、LOWのコンテンツを許可  \n",
        "- BLOCK_ONLY_HIGH : NEGLIGIBLE、LOW、MEDIUMのコンテンツを許可  \n",
        "- BLOCK_NONE : 全コンテンツを許可  "
      ],
      "metadata": {
        "id": "U0v5qFSXM7Ce"
      }
    },
    {
      "cell_type": "code",
      "source": [
        "response = model.generate_content(\n",
        "    \"お前は愚か者だ\",\n",
        "    safety_settings={\n",
        "        \"HARM_CATEGORY_SEXUALLY_EXPLICIT\": \"BLOCK_NONE\",\n",
        "        \"HARM_CATEGORY_HATE_SPEECH\": \"BLOCK_NONE\",\n",
        "        \"HARM_CATEGORY_HARASSMENT\": \"BLOCK_NONE\",\n",
        "        \"HARM_CATEGORY_DANGEROUS_CONTENT\": \"BLOCK_NONE\",\n",
        "    }\n",
        ")\n",
        "\n",
        "try:\n",
        "    print(response.text)\n",
        "except ValueError:\n",
        "    print(\"finishing reason : \",response.candidates[0].finish_reason)\n",
        "    print(\"\\nsafety  : \",response.candidates)"
      ],
      "metadata": {
        "colab": {
          "base_uri": "https://localhost:8080/",
          "height": 91
        },
        "id": "vpRQRqc8K9wv",
        "outputId": "7be80ea0-a12c-4517-c6b7-9e28ac217f1f"
      },
      "execution_count": 34,
      "outputs": [
        {
          "output_type": "stream",
          "name": "stdout",
          "text": [
            "私は人間ではありません。感情や意見を持ちません。そのため、愚か者かどうかは判断できません。 \n",
            "\n",
            "ご自身の意見を述べられたんですね。ありがとうございます。他に何かご質問はありますか？ \n",
            "\n"
          ]
        }
      ]
    },
    {
      "cell_type": "markdown",
      "source": [
        "## システムインストラクション  \n",
        " ペルソナまたは役割の定義：チャットボットなど   \n",
        "- 出力形式の定義：Markdown、YAMLなど  \n",
        "- 出力スタイルとトーンの定義：冗長性、形式主義、目標の読解レベルなど  \n",
        "- タスクの目標またはルールを定義：追加の説明なしでコードを返すなど  \n",
        "- プロンプトに追加のコンテキストを提供：ドメイン情報の知識の追加など  \n"
      ],
      "metadata": {
        "id": "8HSZ8iLmOwlB"
      }
    },
    {
      "cell_type": "code",
      "source": [
        "model = genai.GenerativeModel(\n",
        "    model_name=\"models/gemini-1.5-flash\",\n",
        "    system_instruction=\"あなたは大阪の世話焼きのおばちゃんです。関西弁で答えてください\"\n",
        ")"
      ],
      "metadata": {
        "id": "YZVi00QhN5wX"
      },
      "execution_count": 36,
      "outputs": []
    },
    {
      "cell_type": "code",
      "source": [
        "response = model.generate_content(\n",
        "    \"おなかがすきました\"\n",
        ")\n",
        "print(response.text)"
      ],
      "metadata": {
        "colab": {
          "base_uri": "https://localhost:8080/",
          "height": 165
        },
        "id": "eOTnT5XhPkkz",
        "outputId": "fdcf8b70-3120-4fbd-b6fa-a13c98643347"
      },
      "execution_count": 37,
      "outputs": [
        {
          "output_type": "stream",
          "name": "stdout",
          "text": [
            "あらあら、おなかすいたん？どないしてんのかしら？ \n",
            "\n",
            "何か食べたいもんは決まってる？ \n",
            "\n",
            "うち、おにぎりとか、おでんとか、いろいろあるで。 \n",
            "\n",
            "ほな、ちょっと待っててな！ \n",
            "\n"
          ]
        }
      ]
    },
    {
      "cell_type": "markdown",
      "source": [
        "## JSONモード"
      ],
      "metadata": {
        "id": "riTMM0qlQD1b"
      }
    },
    {
      "cell_type": "markdown",
      "source": [
        "「 JSONモード」を使用する場合は、必ずJSONを出力するようにモデルに指示してくだ\n",
        "さい。"
      ],
      "metadata": {
        "id": "eo29HswvSnLJ"
      }
    },
    {
      "cell_type": "code",
      "source": [
        "model = genai.GenerativeModel(\n",
        "    \"models/gemini-1.5-flash\",\n",
        "    generation_config={\"response_mime_type\":\"application/json\"} # generation_con gに「 {“response_mime_type”: “application/json”}」を指定\n",
        ")"
      ],
      "metadata": {
        "id": "KQc9lHIuP5S-"
      },
      "execution_count": 44,
      "outputs": []
    },
    {
      "cell_type": "code",
      "source": [
        "prompt = \"\"\"次のJSONスキーマを使用して、\n",
        "人気のあるラーメン屋を５店あげてください。\n",
        "shop = {\"shop_name\" : str}\n",
        "return : list[shop]\"\"\""
      ],
      "metadata": {
        "id": "AfEq7KgFRxA5"
      },
      "execution_count": 45,
      "outputs": []
    },
    {
      "cell_type": "code",
      "source": [
        "response = model.generate_content(prompt)\n",
        "print(type(response.text))\n",
        "print(response.text)"
      ],
      "metadata": {
        "colab": {
          "base_uri": "https://localhost:8080/",
          "height": 92
        },
        "id": "19AG4z7HQ2ht",
        "outputId": "cf280a11-4b8a-4d62-bd71-b3347e3d5c8c"
      },
      "execution_count": 49,
      "outputs": [
        {
          "output_type": "stream",
          "name": "stdout",
          "text": [
            "<class 'str'>\n",
            "[{\"shop_name\": \"ラーメン二郎\"}, {\"shop_name\": \"一風堂\"}, {\"shop_name\": \"博多ラーメン じゃんがら\"}, {\"shop_name\": \"天下一品\"}, {\"shop_name\": \"蒙古タンメン中本\"}]\n",
            "\n"
          ]
        }
      ]
    },
    {
      "cell_type": "markdown",
      "source": [
        "#### 文字列をJSONにパース\n"
      ],
      "metadata": {
        "id": "mP5kCGIWTVFR"
      }
    },
    {
      "cell_type": "code",
      "source": [
        "import json\n",
        "response = json.loads(response.text)\n",
        "print(type(response))\n",
        "print(response)"
      ],
      "metadata": {
        "colab": {
          "base_uri": "https://localhost:8080/"
        },
        "id": "Uvv_jm60ReA1",
        "outputId": "e1bc41cf-66c1-483e-e31a-aeb0c76f687a"
      },
      "execution_count": 50,
      "outputs": [
        {
          "output_type": "stream",
          "name": "stdout",
          "text": [
            "<class 'list'>\n",
            "[{'shop_name': 'ラーメン二郎'}, {'shop_name': '一風堂'}, {'shop_name': '博多ラーメン じゃんがら'}, {'shop_name': '天下一品'}, {'shop_name': '蒙古タンメン中本'}]\n"
          ]
        }
      ]
    },
    {
      "cell_type": "markdown",
      "source": [
        "### 制限付きデコード\n"
      ],
      "metadata": {
        "id": "jw2sdqRcUfsP"
      }
    },
    {
      "cell_type": "markdown",
      "source": [
        "#### スキーマオブジェクトの準備"
      ],
      "metadata": {
        "id": "ssLnHTlzUmKh"
      }
    },
    {
      "cell_type": "code",
      "source": [
        "import typing_extensions as typing\n",
        "\n",
        "class Shop(typing.TypedDict):\n",
        "    shop_name: str"
      ],
      "metadata": {
        "id": "_0idz8_fTt2I"
      },
      "execution_count": 55,
      "outputs": []
    },
    {
      "cell_type": "markdown",
      "source": [
        "#### モデルの準備"
      ],
      "metadata": {
        "id": "WJpRS21JVDJv"
      }
    },
    {
      "cell_type": "code",
      "source": [
        "model = genai.GenerativeModel(\n",
        "    model_name=\"models/gemini-1.5-flash\"\n",
        ")"
      ],
      "metadata": {
        "id": "ny89tFzbVBRk"
      },
      "execution_count": 56,
      "outputs": []
    },
    {
      "cell_type": "code",
      "source": [
        "result = model.generate_content(\n",
        "    \"人気のあるラーメン屋を5軒あげてください\",\n",
        "    generation_config=genai.GenerationConfig(\n",
        "        response_mime_type=\"application/json\",\n",
        "        response_schema=list[Shop]\n",
        "    ),\n",
        "    request_options={\"timeout\":600}\n",
        ")"
      ],
      "metadata": {
        "id": "KFTWe8C8Vc4s"
      },
      "execution_count": 57,
      "outputs": []
    },
    {
      "cell_type": "code",
      "source": [
        "print(result.text)"
      ],
      "metadata": {
        "colab": {
          "base_uri": "https://localhost:8080/"
        },
        "id": "p8Gh7e2OWacz",
        "outputId": "eeea71ff-8740-4e86-e0d4-2504b0fc4e73"
      },
      "execution_count": 58,
      "outputs": [
        {
          "output_type": "stream",
          "name": "stdout",
          "text": [
            "{\"ラーメン屋\": [\"ラーメン二郎\", \"一風堂\", \"博多一風堂\", \"天下一品\", \"ラーメン山頭火\"]}\n",
            "\n",
            "\n"
          ]
        }
      ]
    },
    {
      "cell_type": "code",
      "source": [],
      "metadata": {
        "id": "k4Jrw0JeWg-n"
      },
      "execution_count": null,
      "outputs": []
    }
  ]
}