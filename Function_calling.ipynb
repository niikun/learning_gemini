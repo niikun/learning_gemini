{
  "nbformat": 4,
  "nbformat_minor": 0,
  "metadata": {
    "colab": {
      "provenance": [],
      "authorship_tag": "ABX9TyNlV+pZNec/p9TI0e2MSzLM",
      "include_colab_link": true
    },
    "kernelspec": {
      "name": "python3",
      "display_name": "Python 3"
    },
    "language_info": {
      "name": "python"
    }
  },
  "cells": [
    {
      "cell_type": "markdown",
      "metadata": {
        "id": "view-in-github",
        "colab_type": "text"
      },
      "source": [
        "<a href=\"https://colab.research.google.com/github/niikun/learning_gemini/blob/main/Function_calling.ipynb\" target=\"_parent\"><img src=\"https://colab.research.google.com/assets/colab-badge.svg\" alt=\"Open In Colab\"/></a>"
      ]
    },
    {
      "cell_type": "markdown",
      "source": [
        "# Function Calling"
      ],
      "metadata": {
        "id": "d-a05e6-cokL"
      }
    },
    {
      "cell_type": "markdown",
      "source": [
        "## 事前準備"
      ],
      "metadata": {
        "id": "IgAeDrYUcuhZ"
      }
    },
    {
      "cell_type": "code",
      "execution_count": 1,
      "metadata": {
        "colab": {
          "base_uri": "https://localhost:8080/"
        },
        "id": "A2cDj9upcHnt",
        "outputId": "fb804442-099f-464f-c9eb-4d685718f102"
      },
      "outputs": [
        {
          "output_type": "stream",
          "name": "stdout",
          "text": [
            "\u001b[2K     \u001b[90m━━━━━━━━━━━━━━━━━━━━━━━━━━━━━━━━━━━━━━━━\u001b[0m \u001b[32m163.9/163.9 kB\u001b[0m \u001b[31m1.9 MB/s\u001b[0m eta \u001b[36m0:00:00\u001b[0m\n",
            "\u001b[2K     \u001b[90m━━━━━━━━━━━━━━━━━━━━━━━━━━━━━━━━━━━━━━━━\u001b[0m \u001b[32m718.3/718.3 kB\u001b[0m \u001b[31m6.2 MB/s\u001b[0m eta \u001b[36m0:00:00\u001b[0m\n",
            "\u001b[?25h"
          ]
        }
      ],
      "source": [
        "!pip install -q -U google-generativeai"
      ]
    },
    {
      "cell_type": "code",
      "source": [
        "from google.colab import userdata\n",
        "import google.generativeai as genai\n",
        "GOOGLE_API_KEY = userdata.get('GOOGLE_API_KEY')\n",
        "genai.configure(api_key=GOOGLE_API_KEY)"
      ],
      "metadata": {
        "id": "k0TmZIkGc50E"
      },
      "execution_count": 2,
      "outputs": []
    },
    {
      "cell_type": "markdown",
      "source": [
        "## Automatic Function Calling"
      ],
      "metadata": {
        "id": "6guN0OeIe1jd"
      }
    },
    {
      "cell_type": "markdown",
      "source": [
        "### 関数の定義"
      ],
      "metadata": {
        "id": "UjUVPj4Te-lo"
      }
    },
    {
      "cell_type": "code",
      "source": [
        "def add(a:float,b:float) -> float:\n",
        "    \"\"\"retrun a+b\"\"\"\n",
        "    return a+b\n",
        "\n",
        "def sub(a:float,b:float) -> float:\n",
        "    \"\"\"retrun a-b\"\"\"\n",
        "    return a-b\n",
        "\n",
        "def mul(a:float,b:float) -> float:\n",
        "    \"\"\"retrun a*b\"\"\"\n",
        "    return a*b\n",
        "\n",
        "def div(a:float,b:float) -> float:\n",
        "    \"\"\"retrun a/b\"\"\"\n",
        "    return a/b if b != 0 else None\n"
      ],
      "metadata": {
        "id": "-c9_NVc0djGm"
      },
      "execution_count": 3,
      "outputs": []
    },
    {
      "cell_type": "code",
      "source": [
        "model = genai.GenerativeModel(\n",
        "    model_name=\"models/gemini-1.5-flash\",\n",
        "    tools=[add,sub,mul,div]\n",
        ")"
      ],
      "metadata": {
        "id": "GDECZMLNfbrq"
      },
      "execution_count": 4,
      "outputs": []
    },
    {
      "cell_type": "code",
      "source": [
        "chat = model.start_chat(\n",
        "    enable_automatic_function_calling=True\n",
        ")"
      ],
      "metadata": {
        "id": "rlu0Min-gOYK"
      },
      "execution_count": 5,
      "outputs": []
    },
    {
      "cell_type": "code",
      "source": [
        "response = chat.send_message(\n",
        "    \"私は57匹の猫を飼っていて、それぞれが44個のミトンを持っています。ミトンは合計で何個になりますか?\"\n",
        " )\n",
        "response.text"
      ],
      "metadata": {
        "colab": {
          "base_uri": "https://localhost:8080/",
          "height": 36
        },
        "id": "jwIqCk65gcZl",
        "outputId": "a848118c-0c9c-411d-f95d-d4b7fd2b413d"
      },
      "execution_count": 6,
      "outputs": [
        {
          "output_type": "execute_result",
          "data": {
            "text/plain": [
              "'ミトンは全部で 2508 個あります。'"
            ],
            "application/vnd.google.colaboratory.intrinsic+json": {
              "type": "string"
            }
          },
          "metadata": {},
          "execution_count": 6
        }
      ]
    },
    {
      "cell_type": "code",
      "source": [
        "for content in chat.history:\n",
        "    print(content.role, \"->\", [type(part).to_dict(part) for part in content.parts])\n",
        "    print(\"===\")"
      ],
      "metadata": {
        "colab": {
          "base_uri": "https://localhost:8080/"
        },
        "id": "Tb3Fpo61g9g8",
        "outputId": "9510d2af-4432-4d00-eb3c-6a4f0763dc46"
      },
      "execution_count": 7,
      "outputs": [
        {
          "output_type": "stream",
          "name": "stdout",
          "text": [
            "user -> [{'text': '私は57匹の猫を飼っていて、それぞれが44個のミトンを持っています。ミトンは合計で何個になりますか?'}]\n",
            "===\n",
            "model -> [{'function_call': {'name': 'mul', 'args': {'a': 57.0, 'b': 44.0}}}]\n",
            "===\n",
            "user -> [{'function_response': {'name': 'mul', 'response': {'result': 2508.0}}}]\n",
            "===\n",
            "model -> [{'text': 'ミトンは全部で 2508 個あります。'}]\n",
            "===\n"
          ]
        }
      ]
    },
    {
      "cell_type": "markdown",
      "source": [
        "## Tool Config  \n",
        "「 Tool Cong」は 、「 Gemini API」のユーザー入力に応じたメッセージ応答とFunction\n",
        "Callingの選択を制御する設定です。状況に応じて、使用可能な関数を制限したい場合に\n",
        "役立ちます。  \n",
        "次の3つのモードを切り替えることができます。  \n",
        "- NONE：  メッセージ応答を強制  \n",
        "- AUTO：メッセージ応答とFunction Callingを自動選択  \n",
        "- ANY：Function Callingを強制  "
      ],
      "metadata": {
        "id": "hdbBppsJPBbI"
      }
    },
    {
      "cell_type": "markdown",
      "source": [
        "#### Tool Config のユーティリティ関数の準備"
      ],
      "metadata": {
        "id": "F2GVHYNZPoNX"
      }
    },
    {
      "cell_type": "code",
      "source": [
        "from google.generativeai.types import content_types\n",
        "from collections.abc import Iterable\n",
        "\n",
        "def tool_config_from_mode(mode: str, fns: Iterable[str] = ()):\n",
        "    \"\"\"Function Calling modeと許可する関数名からTool Configを生成\"\"\"\n",
        "    return content_types.to_tool_config(\n",
        "        {\"function_calling_config\" : {\"mode\":mode, \"allowed_function_names\":fns}}\n",
        "    )"
      ],
      "metadata": {
        "id": "hceJiMDahmyu"
      },
      "execution_count": 9,
      "outputs": []
    },
    {
      "cell_type": "markdown",
      "source": [
        "#### NONEで動作確認  \n",
        "NONEを指定すると、必ずメッセージ応答になります。会話履歴から、関数が使われていないことがわかります。"
      ],
      "metadata": {
        "id": "iIshfZKZQ6i2"
      }
    },
    {
      "cell_type": "code",
      "source": [
        "chat.history.clear()\n",
        "\n",
        "response = chat.send_message(\n",
        "    \"私は57匹の猫を飼っていて、それぞれが44個のミトンを持っています。ミトンは合計で何個になりますか?\",\n",
        "    tool_config=tool_config_from_mode(\"NONE\")\n",
        ")"
      ],
      "metadata": {
        "id": "vitrjXCSQuqX"
      },
      "execution_count": 11,
      "outputs": []
    },
    {
      "cell_type": "code",
      "source": [
        "for content in chat.history:\n",
        "    # print(content.parts)\n",
        "    print(content.role, \"->\",[type(part).to_dict(part) for part in content.parts])\n",
        "    print(\"=====\")"
      ],
      "metadata": {
        "colab": {
          "base_uri": "https://localhost:8080/"
        },
        "id": "qTZGR74dRTM9",
        "outputId": "823663c7-4d46-4302-ef41-19504d5fb28a"
      },
      "execution_count": 14,
      "outputs": [
        {
          "output_type": "stream",
          "name": "stdout",
          "text": [
            "user -> [{'text': '私は57匹の猫を飼っていて、それぞれが44個のミトンを持っています。ミトンは合計で何個になりますか?'}]\n",
            "=====\n",
            "model -> [{'text': '猫は57匹で、それぞれの猫が44個のミトンを持っています。ミトンの合計数は、57匹の猫×44個のミトン/猫 = **2508個**です。\\n'}]\n",
            "=====\n"
          ]
        }
      ]
    },
    {
      "cell_type": "markdown",
      "source": [
        "#### AUTO  \n",
        "AUTOを指定すると、ユーザー入力に応じてメッセージ応答とFunction Callingを自動選択します。"
      ],
      "metadata": {
        "id": "wllrJejsUHo1"
      }
    },
    {
      "cell_type": "code",
      "source": [
        "chat.history.clear()\n",
        "\n",
        "response = chat.send_message(\n",
        "    \"私は57匹の猫を飼っていて、それぞれが44個のミトンを持っています。ミトンは合計で何個になりますか?\",\n",
        "    tool_config=tool_config_from_mode(\"AUTO\")\n",
        ")"
      ],
      "metadata": {
        "id": "pZgbXD7VSVEW"
      },
      "execution_count": 16,
      "outputs": []
    },
    {
      "cell_type": "code",
      "source": [
        "for content in chat.history:\n",
        "    print(content.role, \"->\", [type(part).to_dict(part) for part in content.parts])"
      ],
      "metadata": {
        "colab": {
          "base_uri": "https://localhost:8080/"
        },
        "id": "ukxTaZY7TD6T",
        "outputId": "57ce0f90-0f9a-451b-d423-c3807971e6b2"
      },
      "execution_count": 18,
      "outputs": [
        {
          "output_type": "stream",
          "name": "stdout",
          "text": [
            "user -> [{'text': '私は57匹の猫を飼っていて、それぞれが44個のミトンを持っています。ミトンは合計で何個になりますか?'}]\n",
            "model -> [{'function_call': {'name': 'mul', 'args': {'a': 57.0, 'b': 44.0}}}]\n",
            "user -> [{'function_response': {'name': 'mul', 'response': {'result': 2508.0}}}]\n",
            "model -> [{'text': '猫は合計2508個のミトンを持っています。 \\n'}]\n"
          ]
        }
      ]
    },
    {
      "cell_type": "markdown",
      "source": [
        "#### ANY\n",
        "ANYを指定すると、必ずFunction Callingになります。"
      ],
      "metadata": {
        "id": "BMVtL-e2UOfX"
      }
    },
    {
      "cell_type": "code",
      "source": [
        "chat.history.clear()\n",
        "\n",
        "response = chat.send_message(\n",
        "    \"私は57匹の猫を飼っていて、それぞれが44個のミトンを持っています。ミトンは合計で何個になりますか?\",\n",
        "    tool_config=tool_config_from_mode(\"ANY\")\n",
        ")"
      ],
      "metadata": {
        "id": "IUEhughiTQ8J"
      },
      "execution_count": 19,
      "outputs": []
    },
    {
      "cell_type": "code",
      "source": [
        "for content in chat.history:\n",
        "    print(content.role, \"->\", [type(part).to_dict(part) for part in content.parts])"
      ],
      "metadata": {
        "colab": {
          "base_uri": "https://localhost:8080/"
        },
        "id": "X2_NpjIqUlds",
        "outputId": "ad0d42cc-c4b3-40b0-d756-17d759791e2b"
      },
      "execution_count": 20,
      "outputs": [
        {
          "output_type": "stream",
          "name": "stdout",
          "text": [
            "user -> [{'text': '私は57匹の猫を飼っていて、それぞれが44個のミトンを持っています。ミトンは合計で何個になりますか?'}]\n",
            "model -> [{'function_call': {'name': 'mul', 'args': {'a': 57.0, 'b': 44.0}}}]\n",
            "user -> [{'function_response': {'name': 'mul', 'response': {'result': 2508.0}}}]\n",
            "model -> [{'text': '猫は合計で 2508 個のミトンを持っています。'}]\n"
          ]
        }
      ]
    },
    {
      "cell_type": "code",
      "source": [
        "chat.history.clear()\n",
        "\n",
        "response = chat.send_message(\n",
        "    \"明日は晴れますか?\",\n",
        "    tool_config=tool_config_from_mode(\"ANY\")\n",
        ")"
      ],
      "metadata": {
        "id": "TJzfZ6PHU82Z"
      },
      "execution_count": 22,
      "outputs": []
    },
    {
      "cell_type": "code",
      "source": [
        "for content in chat.history:\n",
        "    print(content.role, \"->\", [type(part).to_dict(part) for part in content.parts])"
      ],
      "metadata": {
        "colab": {
          "base_uri": "https://localhost:8080/"
        },
        "id": "xNn8MZLUVE5s",
        "outputId": "3a2fc1af-2fa5-4841-fc3c-cb6b9b5c5e9c"
      },
      "execution_count": 23,
      "outputs": [
        {
          "output_type": "stream",
          "name": "stdout",
          "text": [
            "user -> [{'text': '明日は晴れますか?'}]\n",
            "model -> [{'text': '申し訳ありませんが、私は天気予報を提供することはできません。'}]\n"
          ]
        }
      ]
    },
    {
      "cell_type": "code",
      "source": [
        "chat.history.clear()\n",
        "\n",
        "response = chat.send_message(\n",
        "    \"明日は晴れますか?\",\n",
        "    tool_config=tool_config_from_mode(\"AUTO\")\n",
        ")\n",
        "for content in chat.history:\n",
        "    print(content.role, \"->\", [type(part).to_dict(part) for part in content.parts])"
      ],
      "metadata": {
        "colab": {
          "base_uri": "https://localhost:8080/",
          "height": 74
        },
        "id": "fmuGb_wUVP-X",
        "outputId": "16b54880-6e4d-4423-cc24-a633795330b8"
      },
      "execution_count": 24,
      "outputs": [
        {
          "output_type": "stream",
          "name": "stdout",
          "text": [
            "user -> [{'text': '明日は晴れますか?'}]\n",
            "model -> [{'text': '申し訳ありませんが、天気予報を提供することはできません。  私は言語モデルなので、リアルタイムの情報にアクセスできません。'}]\n"
          ]
        }
      ]
    },
    {
      "cell_type": "markdown",
      "source": [
        "## Manual Function Calling"
      ],
      "metadata": {
        "id": "Gp0wUyYDVwbh"
      }
    },
    {
      "cell_type": "markdown",
      "source": [
        "#### 関数の定義\n",
        "現在の気温を返す関数を定義します。実運用ではお天気APIから情報を取得する必要が\n",
        "ありますが、今回は練習用に固定値を返しています。"
      ],
      "metadata": {
        "id": "e80cP1hJV3SY"
      }
    },
    {
      "cell_type": "code",
      "source": [
        "def get_temperature(location: str):\n",
        "    \"\"\"get current temperature.\"\"\"\n",
        "    if location == \"東京\":\n",
        "        return \"20度\"\n",
        "    else:\n",
        "        return \"10度\""
      ],
      "metadata": {
        "id": "Qy5ESmAGnCU-"
      },
      "execution_count": 80,
      "outputs": []
    },
    {
      "cell_type": "code",
      "source": [
        "functions = {\n",
        " \"get_temperature\": get_temperature,\n",
        " }"
      ],
      "metadata": {
        "id": "cQGDIp8bnesA"
      },
      "execution_count": 81,
      "outputs": []
    },
    {
      "cell_type": "code",
      "source": [
        "model = genai.GenerativeModel(\n",
        "    model_name=\"models/gemini-1.5-flash\",\n",
        "    tools=functions.values(),\n",
        " )"
      ],
      "metadata": {
        "id": "zcZR3gEwnmbE"
      },
      "execution_count": 82,
      "outputs": []
    },
    {
      "cell_type": "code",
      "source": [
        "model = genai.GenerativeModel(\n",
        "    model_name=\"models/gemini-1.5-flash\",\n",
        "    tools=functions.values(),\n",
        " )"
      ],
      "metadata": {
        "id": "GGhEFogOnwAB"
      },
      "execution_count": 83,
      "outputs": []
    },
    {
      "cell_type": "code",
      "source": [
        "response = model.generate_content(\n",
        "    \"how temperature in tokyo?\"\n",
        ")\n",
        "print(response)"
      ],
      "metadata": {
        "colab": {
          "base_uri": "https://localhost:8080/",
          "height": 921
        },
        "id": "isL9MawRrDxx",
        "outputId": "af62e9d5-5a21-465c-f33f-27adfef50330"
      },
      "execution_count": 101,
      "outputs": [
        {
          "output_type": "stream",
          "name": "stdout",
          "text": [
            "response:\n",
            "GenerateContentResponse(\n",
            "    done=True,\n",
            "    iterator=None,\n",
            "    result=protos.GenerateContentResponse({\n",
            "      \"candidates\": [\n",
            "        {\n",
            "          \"content\": {\n",
            "            \"parts\": [\n",
            "              {\n",
            "                \"function_call\": {\n",
            "                  \"name\": \"get_temperature\",\n",
            "                  \"args\": {\n",
            "                    \"location\": \"tokyo\"\n",
            "                  }\n",
            "                }\n",
            "              }\n",
            "            ],\n",
            "            \"role\": \"model\"\n",
            "          },\n",
            "          \"finish_reason\": \"STOP\",\n",
            "          \"index\": 0,\n",
            "          \"safety_ratings\": [\n",
            "            {\n",
            "              \"category\": \"HARM_CATEGORY_HARASSMENT\",\n",
            "              \"probability\": \"NEGLIGIBLE\"\n",
            "            },\n",
            "            {\n",
            "              \"category\": \"HARM_CATEGORY_DANGEROUS_CONTENT\",\n",
            "              \"probability\": \"NEGLIGIBLE\"\n",
            "            },\n",
            "            {\n",
            "              \"category\": \"HARM_CATEGORY_HATE_SPEECH\",\n",
            "              \"probability\": \"NEGLIGIBLE\"\n",
            "            },\n",
            "            {\n",
            "              \"category\": \"HARM_CATEGORY_SEXUALLY_EXPLICIT\",\n",
            "              \"probability\": \"NEGLIGIBLE\"\n",
            "            }\n",
            "          ]\n",
            "        }\n",
            "      ],\n",
            "      \"usage_metadata\": {\n",
            "        \"prompt_token_count\": 42,\n",
            "        \"candidates_token_count\": 15,\n",
            "        \"total_token_count\": 57\n",
            "      }\n",
            "    }),\n",
            ")\n"
          ]
        }
      ]
    },
    {
      "cell_type": "code",
      "source": [
        "import requests"
      ],
      "metadata": {
        "id": "h_73XHixYIfu"
      },
      "execution_count": 56,
      "outputs": []
    },
    {
      "cell_type": "code",
      "source": [
        "def get_temperature():\n",
        "    \"\"\"get tomorrow temperature\"\"\"\n",
        "    URL = \"https://api.open-meteo.com/v1/forecast?latitude=35.6895&longitude=139.6917&daily=weather_code,temperature_2m_max\"\n",
        "    res = requests.get(URL)\n",
        "    res.json()\n",
        "    temperature_tommorow = res.json()[\"daily\"][\"temperature_2m_max\"][1]\n",
        "    return temperature_tommorow\n",
        "\n",
        "def get_weather():\n",
        "    \"\"\"get tommorow weather\"\"\"\n",
        "    URL = \"https://api.open-meteo.com/v1/forecast?latitude=35.6895&longitude=139.6917&daily=weather_code,temperature_2m_max\"\n",
        "    res = requests.get(URL)\n",
        "    res.json()\n",
        "    weather_tommorow_code = res.json()[\"daily\"][\"weather_code\"][1]\n",
        "    if weather_tommorow_code <= 1:\n",
        "        weather_tommorow = \"晴れ\"\n",
        "    elif weather_tommorow_code <= 3:\n",
        "        weather_tommorow = \"曇り\"\n",
        "    else:\n",
        "        weather_tommorow = \"雨\"\n",
        "    return weather_tommorow"
      ],
      "metadata": {
        "id": "0SkGS5x4Vbov"
      },
      "execution_count": 63,
      "outputs": []
    },
    {
      "cell_type": "code",
      "source": [
        "get_temperature(),get_weather()"
      ],
      "metadata": {
        "colab": {
          "base_uri": "https://localhost:8080/"
        },
        "id": "PwVKtLZ2iyZu",
        "outputId": "13fbb7e2-050d-4140-9377-ae31ca5980fb"
      },
      "execution_count": 64,
      "outputs": [
        {
          "output_type": "execute_result",
          "data": {
            "text/plain": [
              "(36.6, '曇り')"
            ]
          },
          "metadata": {},
          "execution_count": 64
        }
      ]
    },
    {
      "cell_type": "markdown",
      "source": [],
      "metadata": {
        "id": "XDuMQFLdbtEd"
      }
    }
  ]
}