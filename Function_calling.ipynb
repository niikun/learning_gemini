{
  "nbformat": 4,
  "nbformat_minor": 0,
  "metadata": {
    "colab": {
      "provenance": [],
      "authorship_tag": "ABX9TyP3X+9zkmcBTd4PYZ1mLBvy",
      "include_colab_link": true
    },
    "kernelspec": {
      "name": "python3",
      "display_name": "Python 3"
    },
    "language_info": {
      "name": "python"
    }
  },
  "cells": [
    {
      "cell_type": "markdown",
      "metadata": {
        "id": "view-in-github",
        "colab_type": "text"
      },
      "source": [
        "<a href=\"https://colab.research.google.com/github/niikun/learning_gemini/blob/main/Function_calling.ipynb\" target=\"_parent\"><img src=\"https://colab.research.google.com/assets/colab-badge.svg\" alt=\"Open In Colab\"/></a>"
      ]
    },
    {
      "cell_type": "markdown",
      "source": [
        "# Function Calling"
      ],
      "metadata": {
        "id": "d-a05e6-cokL"
      }
    },
    {
      "cell_type": "markdown",
      "source": [
        "## 事前準備"
      ],
      "metadata": {
        "id": "IgAeDrYUcuhZ"
      }
    },
    {
      "cell_type": "code",
      "execution_count": 2,
      "metadata": {
        "colab": {
          "base_uri": "https://localhost:8080/"
        },
        "id": "A2cDj9upcHnt",
        "outputId": "87063d57-755c-4435-c7e5-36c41d00abea"
      },
      "outputs": [
        {
          "output_type": "stream",
          "name": "stdout",
          "text": [
            "\u001b[2K     \u001b[90m━━━━━━━━━━━━━━━━━━━━━━━━━━━━━━━━━━━━━━━━\u001b[0m \u001b[32m163.9/163.9 kB\u001b[0m \u001b[31m2.4 MB/s\u001b[0m eta \u001b[36m0:00:00\u001b[0m\n",
            "\u001b[2K     \u001b[90m━━━━━━━━━━━━━━━━━━━━━━━━━━━━━━━━━━━━━━━━\u001b[0m \u001b[32m718.3/718.3 kB\u001b[0m \u001b[31m7.9 MB/s\u001b[0m eta \u001b[36m0:00:00\u001b[0m\n",
            "\u001b[?25h"
          ]
        }
      ],
      "source": [
        "!pip install -q -U google-generativeai"
      ]
    },
    {
      "cell_type": "code",
      "source": [
        "from google.colab import userdata\n",
        "import google.generativeai as genai\n",
        "GOOGLE_API_KEY = userdata.get('GOOGLE_API_KEY')\n",
        "genai.configure(api_key=GOOGLE_API_KEY)"
      ],
      "metadata": {
        "id": "k0TmZIkGc50E"
      },
      "execution_count": 3,
      "outputs": []
    },
    {
      "cell_type": "markdown",
      "source": [
        "## Automatic Function Calling"
      ],
      "metadata": {
        "id": "6guN0OeIe1jd"
      }
    },
    {
      "cell_type": "markdown",
      "source": [
        "### 関数の定義"
      ],
      "metadata": {
        "id": "UjUVPj4Te-lo"
      }
    },
    {
      "cell_type": "code",
      "source": [
        "def add(a:float,b:float) -> float:\n",
        "    \"\"\"retrun a+b\"\"\"\n",
        "    return a+b\n",
        "\n",
        "def sub(a:float,b:float) -> float:\n",
        "    \"\"\"retrun a-b\"\"\"\n",
        "    return a-b\n",
        "\n",
        "def mul(a:float,b:float) -> float:\n",
        "    \"\"\"retrun a*b\"\"\"\n",
        "    return a*b\n",
        "\n",
        "def div(a:float,b:float) -> float:\n",
        "    \"\"\"retrun a/b\"\"\"\n",
        "    return a/b if b != 0 else None\n"
      ],
      "metadata": {
        "id": "-c9_NVc0djGm"
      },
      "execution_count": 5,
      "outputs": []
    },
    {
      "cell_type": "code",
      "source": [
        "model = genai.GenerativeModel(\n",
        "    model_name=\"models/gemini-1.5-flash\",\n",
        "    tools=[add,sub,mul,div]\n",
        ")"
      ],
      "metadata": {
        "id": "GDECZMLNfbrq"
      },
      "execution_count": 6,
      "outputs": []
    },
    {
      "cell_type": "code",
      "source": [
        "chat = model.start_chat(\n",
        "    enable_automatic_function_calling=True\n",
        ")"
      ],
      "metadata": {
        "id": "rlu0Min-gOYK"
      },
      "execution_count": 7,
      "outputs": []
    },
    {
      "cell_type": "code",
      "source": [
        "response = chat.send_message(\n",
        "    \"私は57匹の猫を飼っていて、それぞれが44個のミトンを持っています。ミトンは合計で何個になりますか?\"\n",
        " )\n",
        "response.text"
      ],
      "metadata": {
        "colab": {
          "base_uri": "https://localhost:8080/",
          "height": 36
        },
        "id": "jwIqCk65gcZl",
        "outputId": "5e886a50-2e6e-4b9e-dfa3-1c9421f75521"
      },
      "execution_count": 9,
      "outputs": [
        {
          "output_type": "execute_result",
          "data": {
            "text/plain": [
              "'ミトンは合計で2508個あります。'"
            ],
            "application/vnd.google.colaboratory.intrinsic+json": {
              "type": "string"
            }
          },
          "metadata": {},
          "execution_count": 9
        }
      ]
    },
    {
      "cell_type": "code",
      "source": [
        "for content in chat.history:\n",
        "    print(content.role, \"->\", [type(part).to_dict(part) for part in content.parts])\n",
        "    print(\"===\")"
      ],
      "metadata": {
        "colab": {
          "base_uri": "https://localhost:8080/"
        },
        "id": "Tb3Fpo61g9g8",
        "outputId": "1757eaa2-2921-40a1-a110-65f6209b9e76"
      },
      "execution_count": 10,
      "outputs": [
        {
          "output_type": "stream",
          "name": "stdout",
          "text": [
            "user -> [{'text': '私は57匹の猫を飼っていて、それぞれが44個のミトンを持っています。ミトンは合計で何個になりますか?'}]\n",
            "===\n",
            "model -> [{'function_call': {'name': 'mul', 'args': {'b': 44.0, 'a': 57.0}}}]\n",
            "===\n",
            "user -> [{'function_response': {'name': 'mul', 'response': {'result': 2508.0}}}]\n",
            "===\n",
            "model -> [{'text': 'ミトンは合計で2508個あります。'}]\n",
            "===\n"
          ]
        }
      ]
    },
    {
      "cell_type": "code",
      "source": [],
      "metadata": {
        "id": "hceJiMDahmyu"
      },
      "execution_count": null,
      "outputs": []
    }
  ]
}